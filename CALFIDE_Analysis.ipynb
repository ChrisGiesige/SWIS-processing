{
 "cells": [
  {
   "cell_type": "code",
   "execution_count": 1,
   "metadata": {
    "collapsed": true
   },
   "outputs": [],
   "source": [
    "import numpy as np\n",
    "import h5py as hp\n",
    "from datetime import datetime, timedelta\n",
    "import glob\n",
    "import pandas as pd\n",
    "import os\n",
    "\n",
    "####### Rum Creek 8/30, 9/1 and Mosquito 9/8\n",
    "\n",
    "###### being able to sample through a sequence (say 5 minutes) and pull every frame in that time sequence\n",
    "###### create basic function where we give it a frame number and it grabs the metrics\n",
    "###### give it one hdf5 file, read the frames, and take only the nth frame number and compute the metrics...\n",
    "###### ...for each of the nth frame number\n",
    "###### filter 0 is filter 1, filter 1 is filter 2\n",
    "###### focus on filter 1, if there are a certain number of fire pixels then it's fire!\n",
    "\n",
    "path = hp.File('D:/Rum_Creek_Fire/08_30_2022/Telops/telops_2022-08-30_20.27.50.hdf5', 'r')\n",
    "# frames = path['2022-08-31_00.17.37']['telops']\n",
    "path2 = hp.File('D:/Rum_Creek_Fire/09_01_2022/Telops/telops_2022-09-01_23.19.18.hdf5', 'r')\n",
    "# frames2 = path2['2022-09-01_21.11.31']['telops']"
   ]
  },
  {
   "cell_type": "code",
   "execution_count": null,
   "outputs": [],
   "source": [
    "temp_values_list1 = []\n",
    "temp_values_list2 = []\n",
    "\n",
    "# for i in frames2:\n",
    "#     temp_values = frames2[i][:]\n",
    "\n",
    "#     if i == 'frame_52948':\n",
    "#         frame_thirteen = frames2[i][:]\n",
    "#         temp_min = np.min(frame_thirteen)\n",
    "#         total_pixels = np.sum(frame_thirteen == frame_thirteen)\n",
    "#         total_fire_pixels = np.sum(frame_thirteen >= (temp_min + 16.0))\n",
    "#         percent_fire_pixels = (total_fire_pixels / total_pixels) * 100\n",
    "# temp_values_list1.append(temp_values)"
   ],
   "metadata": {
    "collapsed": false
   }
  },
  {
   "cell_type": "code",
   "execution_count": 2,
   "outputs": [],
   "source": [
    "def fire_frames(frames):\n",
    "    temp_values = frames[:]\n",
    "    temp_min = np.min(temp_values)\n",
    "    fire_pixels = np.sum(temp_values >= (temp_min + 16.0))\n",
    "\n",
    "    if fire_pixels > 200:\n",
    "        # total_pixels = (temp_values == temp_values)\n",
    "        total_fire_pixels = (fire_pixels == fire_pixels)\n",
    "        # percent_fire_pixels = (total_fire_pixels / total_pixels) * 100\n",
    "    else:\n",
    "        total_fire_pixels = False\n",
    "\n",
    "    return total_fire_pixels\n",
    "\n",
    "def grab_fire_frames(frames, less_than, greater_than):\n",
    "    global_time = frames.attrs['GlobalTimestamp']\n",
    "    if less_than >= global_time >= greater_than:       #1661891325429, 1661891337926\n",
    "        pass\n",
    "    else:\n",
    "        temp_values = frames[:]\n",
    "\n",
    "    return temp_values\n",
    "\n",
    "fire_nofire_list = []\n",
    "specified_fire_list = []\n",
    "for group in path:\n",
    "    frames = path[group]['telops']\n",
    "    for i in frames:\n",
    "        num_fire_frames = fire_frames(frames[i])\n",
    "        fire_nofire_list.append([i, num_fire_frames])\n",
    "        specific_frames = grab_fire_frames(frames[i], 1661891325429, 1661891337926)\n",
    "        # print(specific_frames)\n",
    "        specified_fire_list.append(specific_frames)"
   ],
   "metadata": {
    "collapsed": false
   }
  },
  {
   "cell_type": "code",
   "execution_count": null,
   "outputs": [],
   "source": [
    "# def get_frame_metrics(frame):\n",
    "#     global_utc = datetime.utcfromtimestamp(frame.attrs['GlobalTimestamp']/1000.0)\n",
    "#     senesor_time = frame.attrs['POSIXTime'] + frame.attrs['SubSecondTime']\n",
    "#     sensor_utc = datetime.utcfromtimestamp(frame.attrs['POSIXTime'] + frame.attrs['SubSecondTime'])\n",
    "\n",
    "#     temp_values = frame[:]\n",
    "#     max_temp = np.max(temp_values)\n",
    "#     median_temp = np.median(temp_values)\n",
    "#     avg_temp = np.average(temp_values)\n",
    "#     min_temp = np.min(temp_values)\n",
    "\n",
    "#     total_pixels = np.sum(temp_values == temp_values)\n",
    "#     total_fire_pixels = np.sum(temp_values >= (min_temp + 16.0))\n",
    "#     percent_fire_pixels = (total_fire_pixels / total_pixels) * 100\n",
    "\n",
    "#     return max_temp, total_fire_pixels, percent_fire_pixels\n",
    "\n",
    "\n",
    "# for group in path:\n",
    "#     frames = path[group]['telops']\n",
    "#     for i in frames:\n",
    "#         given_frame = 'frame_57679'\n",
    "#         if i == given_frame:\n",
    "#             metrics = get_frame_metrics(frames[i])\n",
    "#             print(metrics)"
   ],
   "metadata": {
    "collapsed": false
   }
  },
  {
   "cell_type": "code",
   "execution_count": null,
   "outputs": [],
   "source": [
    "# try turning this into a function and then use it in the for loop and apply the other function after\n",
    "# from re import match\n",
    "# for group in path:\n",
    "#     # Get frames\n",
    "#     frames = path[f\"{group}/telops\"]\n",
    "\n",
    "#     # Extract frame names and ids\n",
    "#     frame_pattern = \"^frame_(\\\\d+)$\"\n",
    "#     def names_sorted(name):\n",
    "#         m = match(frame_pattern, name)\n",
    "#         return int(m.group(1))\n",
    "#     names = sorted(list(frames), key=names_sorted)\n",
    "\n",
    "#     # Define scope of render\n",
    "#     names = names[0:len(names):10]\n",
    "#     # for i in names:\n",
    "#         # metrics = get_frame_metrics(names[i])\n",
    "#     # names.attrs['FWPosition']\n",
    "#     # print(names)\n",
    "#     for name in names:\n",
    "#         filter_pos = frames[name].attrs['FWPosition']\n",
    "#         temp = frames[name][:]\n",
    "#         print(temp)\n",
    "\n",
    "# names[i].attrs"
   ],
   "metadata": {
    "collapsed": false
   }
  },
  {
   "cell_type": "code",
   "execution_count": null,
   "outputs": [],
   "source": [
    "# try turning this into a function and then use it in the for loop and apply the other function after\n",
    "# from re import match\n",
    "# for group in path:\n",
    "#     # Get frames\n",
    "#     frames = path[f\"{group}/telops\"]\n",
    "\n",
    "#     # Extract frame names and ids\n",
    "#     frame_pattern = \"^frame_(\\\\d+)$\"\n",
    "#     def names_sorted(name):\n",
    "#         m = match(frame_pattern, name)\n",
    "#         return int(m.group(1))\n",
    "#     names = sorted(list(frames), key=names_sorted)\n",
    "\n",
    "#     # Define scope of render\n",
    "#     names = names[0:len(names):10]\n",
    "#     # for i in names:\n",
    "#         # metrics = get_frame_metrics(names[i])\n",
    "#     # names.attrs['FWPosition']\n",
    "#     # print(names)\n",
    "#     for name in names:\n",
    "#         filter_pos = frames[name].attrs['FWPosition']\n",
    "#         temp = frames[name][:]\n",
    "#         print(temp)\n",
    "\n",
    "# names[i].attrs\n"
   ],
   "metadata": {
    "collapsed": false
   }
  }
 ],
 "metadata": {
  "kernelspec": {
   "display_name": "Python 3",
   "language": "python",
   "name": "python3"
  },
  "language_info": {
   "codemirror_mode": {
    "name": "ipython",
    "version": 2
   },
   "file_extension": ".py",
   "mimetype": "text/x-python",
   "name": "python",
   "nbconvert_exporter": "python",
   "pygments_lexer": "ipython2",
   "version": "2.7.6"
  }
 },
 "nbformat": 4,
 "nbformat_minor": 0
}
